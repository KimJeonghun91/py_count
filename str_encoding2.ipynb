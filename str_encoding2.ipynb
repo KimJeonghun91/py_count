{
 "cells": [
  {
   "cell_type": "code",
   "execution_count": 1,
   "id": "ff913f4d",
   "metadata": {},
   "outputs": [],
   "source": [
    "test_str = '아우~잠온다냥~😐 병원다녀와서 젤 좋아하는 소파밑스크래쳐에서'"
   ]
  },
  {
   "cell_type": "code",
   "execution_count": 2,
   "id": "75eba69a",
   "metadata": {},
   "outputs": [
    {
     "data": {
      "text/plain": [
       "0"
      ]
     },
     "execution_count": 2,
     "metadata": {},
     "output_type": "execute_result"
    }
   ],
   "source": [
    "test_str.count('아')"
   ]
  },
  {
   "cell_type": "code",
   "execution_count": 3,
   "id": "d8a68ec9",
   "metadata": {},
   "outputs": [],
   "source": [
    "test_str2 = '아우~잠온다냥~😐 병원다녀와서 젤 좋아하는 소파밑스크래쳐에서'"
   ]
  },
  {
   "cell_type": "code",
   "execution_count": 4,
   "id": "26b6270b",
   "metadata": {},
   "outputs": [
    {
     "data": {
      "text/plain": [
       "2"
      ]
     },
     "execution_count": 4,
     "metadata": {},
     "output_type": "execute_result"
    }
   ],
   "source": [
    "test_str2.count('아')"
   ]
  },
  {
   "cell_type": "code",
   "execution_count": null,
   "id": "e023b06f",
   "metadata": {},
   "outputs": [],
   "source": []
  }
 ],
 "metadata": {
  "kernelspec": {
   "display_name": "Python 3",
   "language": "python",
   "name": "python3"
  },
  "language_info": {
   "codemirror_mode": {
    "name": "ipython",
    "version": 3
   },
   "file_extension": ".py",
   "mimetype": "text/x-python",
   "name": "python",
   "nbconvert_exporter": "python",
   "pygments_lexer": "ipython3",
   "version": "3.8.8"
  }
 },
 "nbformat": 4,
 "nbformat_minor": 5
}
